{
 "cells": [
  {
   "cell_type": "markdown",
   "metadata": {},
   "source": [
    "# Code for BLAST-styled queries \n",
    "\n",
    "Here is some code demonstrating some of the basic building blocks of the BLAST algorithm: the database and query indexing, some basic joining of matches, and the display of the results.\n",
    "\n",
    "Note that the code just tries to give the outline of some of the aspects of the algorithm, and the real BLAST contains code for extending matches, calculating scores and extensions etc. which is not part of this notebook."
   ]
  },
  {
   "cell_type": "markdown",
   "metadata": {},
   "source": [
    "`build_index` function: This function creates an index from a given sequence for subsequences (k-mers) of length k. Each k-mer is mapped to all positions where it appears in the sequence, here given as a tuple of the sequence number and its position within the sequence.\n",
    "This step of the processing could be precalculated for each database prior to encountering any query."
   ]
  },
  {
   "cell_type": "code",
   "execution_count": 1,
   "metadata": {},
   "outputs": [],
   "source": [
    "def build_index(sequences, k):\n",
    "    \"\"\"Builds indexes from multiple sequences for subsequences of length k.\"\"\"\n",
    "    index = {}\n",
    "    for seq_id, sequence in enumerate(sequences):\n",
    "        # seq_id will be a number, 0 for first sequence, 1 for second, etc\n",
    "        for i in range(len(sequence) - k + 1):\n",
    "            k_mer = sequence[i:i+k]\n",
    "            if k_mer in index:\n",
    "                index[k_mer].append((seq_id,i))\n",
    "            else:\n",
    "                index[k_mer] = [(seq_id,i)]\n",
    "    return index"
   ]
  },
  {
   "cell_type": "markdown",
   "metadata": {},
   "source": [
    "`query_index` function: This function takes a query sequence and finds all k-mers in the query that are present in the index, along with their positions in the original sequence."
   ]
  },
  {
   "cell_type": "code",
   "execution_count": 2,
   "metadata": {},
   "outputs": [],
   "source": [
    "def query_index(query, index, k):\n",
    "    \"\"\"Queries multiple indexes and finds positions where the query's k-mers match the k-mers in the indexes.\"\"\"\n",
    "    matches = {}\n",
    "    for pos_in_query in range(len(query) - k + 1):\n",
    "        k_mer = query[pos_in_query:pos_in_query+k]\n",
    "        if k_mer in index:\n",
    "            # we found a match. Store the position_in_query \n",
    "            matches[k_mer] = pos_in_query\n",
    "    return matches"
   ]
  },
  {
   "cell_type": "markdown",
   "metadata": {},
   "source": [
    "The `merge_matches` function consolidates all matching k-mers from the query into continuous sequences for each sequence in the database. It first rearranges the matches by sequence index and position, then sorts and merges the k-mers into longer, contiguous segments that represent potential alignments between the query and the database sequences."
   ]
  },
  {
   "cell_type": "code",
   "execution_count": 3,
   "metadata": {},
   "outputs": [],
   "source": [
    "def merge_matches(matches, query, index, k):\n",
    "    \"\"\"Merges all k-mer matches into continuous sequences for each database sequence.\"\"\"\n",
    "    # First rearange the matches so that they are grouped by their matched database sequence\n",
    "    rearanged_matches = {}\n",
    "    for k_mer, pos_query in matches.items():\n",
    "        index_matches = index[k_mer]\n",
    "        for seqix, pos_in_seq in index_matches:\n",
    "            if seqix not in rearanged_matches:\n",
    "                rearanged_matches[seqix] = []\n",
    "            rearanged_matches[seqix].append((pos_query, pos_in_seq, k_mer))\n",
    "    matches = []\n",
    "    \n",
    "    # Walk through each matched sequence and arrange all matched k-tuples\n",
    "    for seqix, list_of_pos2_kmer in rearanged_matches.items():\n",
    "        list_of_pos2_kmer.sort() # sort by query position\n",
    "        match = \"-\" * len(query)\n",
    "        previous_pos_i, start_of_match = -1, None\n",
    "        for pos_q, pos_i, k_mer in list_of_pos2_kmer:\n",
    "            if not start_of_match:\n",
    "                start_of_match = pos_i - pos_q\n",
    "            # Check that the match does not come after the qurrent match\n",
    "            if previous_pos_i<pos_i:\n",
    "                match = match[:pos_q] + k_mer + match[pos_q+k:]\n",
    "                previous_pos_i = pos_i\n",
    "        matches.append((match, seqix, start_of_match))\n",
    "    return matches\n"
   ]
  },
  {
   "cell_type": "markdown",
   "metadata": {},
   "source": [
    "Now we have all the code we need for running a test run of our code."
   ]
  },
  {
   "cell_type": "code",
   "execution_count": 4,
   "metadata": {},
   "outputs": [
    {
     "name": "stdout",
     "output_type": "stream",
     "text": [
      "Alignments:\n",
      "DB:  APEPTIDE\n",
      "MA:  -PEPTID-\n",
      "QU:   PEPTID\n",
      "\n",
      "DB:  PEPTIDEA\n",
      "MA:  PEPTID--\n",
      "QU:  PEPTID\n",
      "\n",
      "DB:  TIDEAPEP\n",
      "MA:  -----PEP---\n",
      "QU:       PEPTID\n",
      "\n",
      "DB:  REPTILE\n",
      "MA:  -EPTI--\n",
      "QU:  PEPTID\n",
      "\n"
     ]
    }
   ],
   "source": [
    "# Example sequences in the database\n",
    "sequences = [\"APEPTIDE\", \"PEPTIDEA\", \"DIFFERENT\", \"TIDEAPEP\", \"REPTILE\"]\n",
    "\n",
    "# Query sequence\n",
    "query = \"PEPTID\"\n",
    "\n",
    "# Build index for a k-mer length of 3 from multiple sequences\n",
    "k = 3\n",
    "index = build_index(sequences, k)\n",
    "#print(\"Indexes:\", index)\n",
    "\n",
    "# Query the indexes\n",
    "matches = query_index(query, index, k)\n",
    "#print(\"Matches:\", matches)\n",
    "\n",
    "# Merge matches into continuous sequences\n",
    "merged_alignments = merge_matches(matches, query, index, k)\n",
    "\n",
    "print(\"Alignments:\")\n",
    "for seq_match, seq_ix, start_of_match in merged_alignments:\n",
    "    print(\"DB:  \" + sequences[seq_ix] )\n",
    "    print(\"MA:  \" + '-'*start_of_match + seq_match + '-'*(len(sequences[seq_ix])-start_of_match-len(seq_match)))\n",
    "    print(\"QU:  \" + ' '*start_of_match + query)\n",
    "    print()\n"
   ]
  },
  {
   "cell_type": "markdown",
   "metadata": {},
   "source": [
    "The algoritm finds matches to the first, second, fourth and fifth sequences"
   ]
  }
 ],
 "metadata": {
  "kernelspec": {
   "display_name": "jb",
   "language": "python",
   "name": "python3"
  },
  "language_info": {
   "codemirror_mode": {
    "name": "ipython",
    "version": 3
   },
   "file_extension": ".py",
   "mimetype": "text/x-python",
   "name": "python",
   "nbconvert_exporter": "python",
   "pygments_lexer": "ipython3",
   "version": "3.11.8"
  }
 },
 "nbformat": 4,
 "nbformat_minor": 2
}
