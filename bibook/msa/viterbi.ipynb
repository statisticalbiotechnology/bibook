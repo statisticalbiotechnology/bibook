{
 "cells": [
  {
   "cell_type": "markdown",
   "metadata": {},
   "source": [
    "# Code describing the Viterbi algorithm"
   ]
  },
  {
   "cell_type": "markdown",
   "metadata": {},
   "source": [
    "We start with defining HMM as a list of states, each state defined as a dictionary. For keeping the example simple we model alignments of DNA sequences i.e. the model emits sequences from an alfabeth of 4 letters, rather than the 20 letters of amino acid sequences. We designed the HMM so that the match states favors a sequence \"ACGT\". We also include a dictionary giving realtive positions to the previous state of each type of state (M, I, D, etc.)"]
  },
  {
   "cell_type": "code",
   "execution_count": 1,
   "metadata": {},
   "outputs": [],
   "source": [
    "import numpy as np\n",
    "\n",
    "profile_hmm = [\n",
    "    {'type': 'S', 'emission': {},                                       'transition': {'M': 0.9, 'I': 0.05, 'D': 0.05}},    # Start State\n",
    "    {'type': 'I', 'emission': {'A': 0.2, 'C': 0.3, 'G': 0.3, 'T': 0.2}, 'transition': {'M': 0.9, 'I': 0.1}},                # Insert State 1\n",
    "    {'type': 'D', 'emission': {},                                       'transition': {'M': 0.9, 'D': 0.1}},                # Delete State 1\n",
    "    {'type': 'M', 'emission': {'A': 0.6, 'C': 0.1, 'G': 0.2, 'T': 0.1}, 'transition': {'M': 0.9, 'I': 0.05, 'D': 0.05}},    # Match State 1\n",
    "    {'type': 'I', 'emission': {'A': 0.2, 'C': 0.3, 'G': 0.3, 'T': 0.2}, 'transition': {'M': 0.9, 'I': 0.1}},                # Insert State 2\n",
    "    {'type': 'D', 'emission': {},                                       'transition': {'M': 0.9, 'D': 0.1}},                # Delete State 2\n",
    "    {'type': 'M', 'emission': {'A': 0.2, 'C': 0.6, 'G': 0.1, 'T': 0.1}, 'transition': {'M': 0.9, 'I': 0.05, 'D': 0.05}},    # Match State 2\n",
    "    {'type': 'I', 'emission': {'A': 0.2, 'C': 0.3, 'G': 0.3, 'T': 0.2}, 'transition': {'M': 0.9, 'I': 0.1}},                # Insert State 3\n",
    "    {'type': 'D', 'emission': {},                                       'transition': {'M': 0.9, 'D': 0.1}},                # Delete State 3\n",
    "    {'type': 'M', 'emission': {'A': 0.1, 'C': 0.2, 'G': 0.5, 'T': 0.2}, 'transition': {'M': 0.9, 'I': 0.05, 'D': 0.05}},    # Match State 3\n",
    "    {'type': 'I', 'emission': {'A': 0.2, 'C': 0.3, 'G': 0.3, 'T': 0.2}, 'transition': {'M': 0.9, 'D': 0.1}},                # Insert State 4\n",
    "    {'type': 'D', 'emission': {},                                       'transition': {'E': 1.0}},                          # Delete State 4\n",
    "    {'type': 'M', 'emission': {'A': 0.2, 'C': 0.2, 'G': 0.2, 'T': 0.4}, 'transition': {'E': 1.0}},                          # Match State 4\n",
    "    {'type': 'I', 'emission': {'A': 0.2, 'C': 0.3, 'G': 0.3, 'T': 0.2}, 'transition': {'E': 1.0}},                          # Insert State 5\n",
    "    {'type': 'E', 'emission': {},                                       'transition': {}},                                  # End State \n",
    "]\n",
    "\n",
    "prev_rel_states = {  # Relative position to previous state of each type\n",
    "    'S': {},\n",
    "    'M': {'S': -3, 'M':-3, 'I':-2, 'D':-4},\n",
    "    'I': {'S': -1, 'M':-1, 'I':0         },\n",
    "    'D': {'S': -2, 'M':-2,         'D':-3},\n",
    "    'E': {         'M':-2, 'I':-1, 'D':-3},\n",
    "}\n"
   ]
  },
  {
   "cell_type": "markdown",
   "metadata": {},
   "source": [
    "Then we define the dynamic programming algorithm to compute the Viterbi matrix, and backtracking the optimal path (the Viterbi path) through the model."
   ]
  },
  {
   "cell_type": "code",
   "execution_count": 2,
   "metadata": {
    "metadata": {}
   },
   "outputs": [],
   "source": [
    "\n",
    "def viterbi(profile_hmm, sequence):\n",
    "    num_states = len(profile_hmm)\n",
    "    num_bases = len(sequence)\n",
    "\n",
    "    # Initialize the Viterbi and path matrices\n",
    "    viterbi_matrix = np.zeros((num_states, num_bases+2))\n",
    "    viterbi_path = np.zeros((num_states, num_bases+2), dtype=int)\n",
    "\n",
    "    # Initialize the first column of the Viterbi matrix\n",
    "    viterbi_matrix[0, 0] = 1.0\n",
    "\n",
    "    # Fill the Viterbi matrix\n",
    "    for base_idx in range(1, num_bases+2):\n",
    "        for state in range(num_states):\n",
    "            transition_probs = {}\n",
    "            current_type = profile_hmm[state]['type']  # Is this a 'M', I', or 'D' state?\n",
    "            isCurrentSilent = not profile_hmm[state]['emission']\n",
    "            # Get the previous states that can transition to the current state\n",
    "            prev_abs_states = { t : state + rel for t, rel in prev_rel_states[current_type].items() if (state + rel >= 0) and (t == profile_hmm[state+rel]['type']) and (current_type in profile_hmm[state+rel]['transition'])}\n",
    "            # Get the previous base index, it is different for silent states (S, E and D)\n",
    "            prev_abs_base = base_idx if (isCurrentSilent) else base_idx -1  \n",
    "            for prev_type, prev_abs_state in prev_abs_states.items():\n",
    "                transition_prob = profile_hmm[prev_abs_state]['transition'][current_type]\n",
    "                prev_score = viterbi_matrix[prev_abs_state, prev_abs_base]\n",
    "                transition_probs[prev_abs_state] = transition_prob * prev_score\n",
    "            if transition_probs:  # Check if the list is not empty\n",
    "                max_prev_state = max(transition_probs, key=transition_probs.get)\n",
    "                max_transition_prob = transition_probs[max_prev_state]\n",
    "                # print(max_prev_state, max_transition_prob)\n",
    "                if profile_hmm[state]['emission'] and base_idx <= num_bases:\n",
    "                    emission_prob = profile_hmm[state]['emission'].get(sequence[base_idx-1], 0)\n",
    "                else:\n",
    "                    emission_prob = 1.0\n",
    "                viterbi_matrix[state, base_idx] = max_transition_prob * emission_prob\n",
    "                viterbi_path[state, base_idx] = max_prev_state\n",
    "    # Trace back to find the most probable path\n",
    "    state = num_states - 1\n",
    "    base_idx = num_bases + 1\n",
    "    letter='-'\n",
    "    best_path = []\n",
    "    while base_idx>=1 and state>0:\n",
    "        best_path.append((state, profile_hmm[state]['type'], letter ))\n",
    "        state = viterbi_path[state, base_idx]\n",
    "        isSilent = not profile_hmm[state]['emission']\n",
    "        if isSilent:\n",
    "            letter = '-'\n",
    "        else:\n",
    "            base_idx -= 1\n",
    "            letter = sequence[base_idx-1]\n",
    "    best_path.append((state, profile_hmm[state]['type'], letter ))\n",
    "    best_path.reverse()\n",
    "    return best_path\n",
    "\n",
    "\n"
   ]
  },
  {
   "cell_type": "markdown",
   "metadata": {},
   "source": [
    "Lets first try with a \"ACGT\" sequence. "
   ]
  },
  {
   "cell_type": "code",
   "execution_count": 3,
   "metadata": {},
   "outputs": [
    {
     "name": "stdout",
     "output_type": "stream",
     "text": [
      "Decoded path:\n",
      "State 0 of type S emitted -\n",
      "State 3 of type M emitted A\n",
      "State 6 of type M emitted C\n",
      "State 9 of type M emitted G\n",
      "State 12 of type M emitted T\n",
      "State 14 of type E emitted -\n"
     ]
    }
   ],
   "source": [
    "decoded_path = viterbi(profile_hmm, 'ACGT')\n",
    "print(\"Decoded path:\")\n",
    "for state, type, letter in decoded_path:\n",
    "    print(f\"State {state} of type {type} emitted {letter}\")\n"
   ]
  },
  {
   "cell_type": "markdown",
   "metadata": {},
   "source": [
    "We could try a sequence that is longer than the model."
   ]
  },
  {
   "cell_type": "code",
   "execution_count": 4,
   "metadata": {},
   "outputs": [
    {
     "name": "stdout",
     "output_type": "stream",
     "text": [
      "Decoded path:\n",
      "State 0 of type S emitted -\n",
      "State 3 of type M emitted A\n",
      "State 6 of type M emitted C\n",
      "State 7 of type I emitted A\n",
      "State 7 of type I emitted A\n",
      "State 9 of type M emitted G\n",
      "State 12 of type M emitted T\n",
      "State 14 of type E emitted -\n"
     ]
    }
   ],
   "source": [
    "decoded_path = viterbi(profile_hmm, 'ACAAGT')\n",
    "print(\"Decoded path:\")\n",
    "for state, type, letter in decoded_path:\n",
    "    print(f\"State {state} of type {type} emitted {letter}\")\n"
   ]
  },
  {
   "cell_type": "markdown",
   "metadata": {},
   "source": [
    "And a shorter sequence."
   ]
  },
  {
   "cell_type": "code",
   "execution_count": 5,
   "metadata": {},
   "outputs": [
    {
     "name": "stdout",
     "output_type": "stream",
     "text": [
      "Decoded path:\n",
      "State 0 of type S emitted -\n",
      "State 3 of type M emitted A\n",
      "State 5 of type D emitted -\n",
      "State 9 of type M emitted G\n",
      "State 12 of type M emitted T\n",
      "State 14 of type E emitted -\n"
     ]
    }
   ],
   "source": [
    "decoded_path = viterbi(profile_hmm, 'AGT')\n",
    "print(\"Decoded path:\")\n",
    "for state, type, letter in decoded_path:\n",
    "    print(f\"State {state} of type {type} emitted {letter}\")"
   ]
  }
 ],
 "metadata": {
  "kernelspec": {
   "display_name": "jb",
   "language": "python",
   "name": "python3"
  },
  "language_info": {
   "codemirror_mode": {
    "name": "ipython",
    "version": 3
   },
   "file_extension": ".py",
   "mimetype": "text/x-python",
   "name": "python",
   "nbconvert_exporter": "python",
   "pygments_lexer": "ipython3",
   "version": "3.11.8"
  }
 },
 "nbformat": 4,
 "nbformat_minor": 2
}
