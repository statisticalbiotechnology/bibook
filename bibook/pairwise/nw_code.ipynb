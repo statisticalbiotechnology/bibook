{
 "cells": [
  {
   "cell_type": "markdown",
   "metadata": {},
   "source": [
    "# Code: Global pairwise alignments\n",
    "\n",
    "We will now make use of our definitions of a Needleman-Wunsch alignment to see how the algorithm transforms to actual code. The sections below will walk you through how this is done. "
   ]
  },
  {
   "cell_type": "markdown",
   "metadata": {
    "tags": [
     "remove-input"
    ]
   },
   "source": [
    "```{toggle}\n",
    "To facilitate the the reasoning in the subsequent cells, we first we define a couple of service functions that we will need later, for formating and printing alignments. It is not important that you understand what these functions do, for now.\n",
    "```"
   ]
  },
  {
   "cell_type": "code",
   "execution_count": 1,
   "metadata": {
    "tags": [
     "hide-input"
    ]
   },
   "outputs": [],
   "source": [
    "import numpy as np\n",
    "\n",
    "# Print 2 sequences on top of each other\n",
    "def print_alignment(seqA,seqB):\n",
    "    print(seqA)\n",
    "    print(seqB)\n",
    "\n",
    "# Print a dynamic programming score matrix\n",
    "# together with its sequences\n",
    "def print_dynamic(seqA,seqB,dpm,trace):\n",
    "    seqA,seqB = \"-\" + seqA, \"-\" + seqB\n",
    "    m,n = len(seqA),len(seqB)\n",
    "    print('{:^5}'.format(\" \"), end=\"\"),\n",
    "    for j in range(n):\n",
    "        print('{:^5}'.format(seqB[j]), end=\"\")\n",
    "    print()\n",
    "    for i in range(m):\n",
    "        print ('{:^5}'.format(seqA[i]), end=\"\")\n",
    "        for j in range(n):\n",
    "            print ('{:5.1f}'.format(dpm[i,j]), end=\"\")\n",
    "        print()\n",
    "    print()\n",
    "\n",
    "# Format an alignment by inserting gaps in sequences\n",
    "def format_alignment(seqA,seqB,S,trace):\n",
    "    print(\"Best score: \" + str(S[-1,-1]))\n",
    "    outA,outB = \"\",\"\"\n",
    "    i,j = len(seqA),len(seqB)\n",
    "    while i>0 or j>0:\n",
    "        di,dj = trace[i,j]\n",
    "        i += int(di)\n",
    "        j += int(dj)\n",
    "        if di == 0:\n",
    "            outA = \"-\" + outA\n",
    "        else:\n",
    "            outA = seqA[i] + outA\n",
    "        if dj == 0:\n",
    "            outB = \"-\" + outB\n",
    "        else:\n",
    "            outB = seqB[j] + outB\n",
    "    return outA,outB"
   ]
  },
  {
   "cell_type": "markdown",
   "metadata": {},
   "source": [
    "## Scoring system for DNA sequences\n",
    "We setup the scoring system we need for the alignment of DNA sequences. Here we use a score system where gaps score -2 and miss matches are scored -1 and matches get a score of 3. You should absolutely try to change the scoring function at some point to see how the values affect the alignments. "
   ]
  },
  {
   "cell_type": "markdown",
   "metadata": {},
   "source": []
  },
  {
   "cell_type": "code",
   "execution_count": 2,
   "metadata": {},
   "outputs": [],
   "source": [
    "def gap_penalty():\n",
    "    return -2.0\n",
    "\n",
    "def match_score(letterA,letterB):\n",
    "    if letterA == '-' or letterB == '-':\n",
    "        return gap_penalty()\n",
    "    elif letterA == letterB:\n",
    "        return 3.0\n",
    "    else:\n",
    "        return -1.0\n"
   ]
  },
  {
   "cell_type": "markdown",
   "metadata": {},
   "source": [
    "## Global alignments by Needleman-Wunsch\n",
    "Here follows an implementation of the [Needleman-Wunsch](http://www.sciencedirect.com/science/article/pii/0022283670900574) pairwise alignment method.  We want to align two sequences $a=a_1,\\ldots,a_{M}$ and $b=b_1,\\ldots,b_{N}$. \n",
    "\n",
    "As said in last chapter, the dynamic programming matrix $S$ is initiated as:\n",
    "$S_{i0}=g \\cdot i, \\forall i,$\n",
    "$S_{0j}=g \\cdot j, \\forall j$\n",
    "\n",
    "This translates easily into two for loops filling in the upper row and the leftmost column.\n",
    "\n",
    "Here we initiate pointers in the form of a trace matrix. Each element in the trace matrix contains the difference in index between the current cell and the optimal step that lead to the current cell. "
   ]
  },
  {
   "cell_type": "code",
   "execution_count": 3,
   "metadata": {},
   "outputs": [],
   "source": [
    "# Initiating dynamic programming matrices, S and trace\n",
    "def initiate_global_dp(m,n):\n",
    "    S = np.zeros((m,n))       # An m*n matrix, initiated with 0's\n",
    "    trace = np.zeros((m,n,2)) # An m*n matrix, initiated with (0,0)'s\n",
    "    S[0,0] = 0.\n",
    "    trace[0,0,:] = (0.,0.)\n",
    "    for i in range(1,m):\n",
    "        S[i,0] = i * gap_penalty()\n",
    "        trace[i,0,:] =(-1,0)\n",
    "    for j in range(1,n):\n",
    "        S[0,j] = j * gap_penalty()\n",
    "        trace[0,j,:] =(0,-1)\n",
    "    return S,trace"
   ]
  },
  {
   "cell_type": "markdown",
   "metadata": {},
   "source": [
    "Subsequently, the rest of $S$ is filled as:\n",
    "$S_{ij}=\\max\\left\\{\n",
    "\\begin{array}{ll}\n",
    "S_{i-1,j-1} & +d(a_i,b_j)\\\\\n",
    "S_{i-1,j} & +d(a_i,-)\\\\\n",
    "S_{i,j-1} & +d(-,b_j)\n",
    "\\end{array}\n",
    "\\right.$\n",
    "\n",
    "This recursion is easily transformed into for-loops. We are free to select the order the matrix is filled in so we select to fill in row per row, i.e. rows become the inner loop, the columns the outer loop.\n",
    "\n",
    "Again we keep track of the move that lead to a certain position by filling in the `trace` matrix.\n"
   ]
  },
  {
   "cell_type": "code",
   "execution_count": 4,
   "metadata": {},
   "outputs": [],
   "source": [
    "def global_align(seqA,seqB,print_dynamic_matrix = False):\n",
    "    # Initiating variables\n",
    "    m, n = len(seqA)+1, len(seqB)+1\n",
    "    S,trace = initiate_global_dp(m,n)\n",
    "    # Fill in the rest of the dynamic programming matrix\n",
    "    for i in range(1,m):\n",
    "        for j in range(1,n):\n",
    "            # Note the subtraction of 1 for the sequence position\n",
    "            # In python sequences are indexed from 0 to len-1\n",
    "            match = S[i-1,j-1] + match_score(seqA[i-1],seqB[j-1]) \n",
    "            delete = S[i-1,j] + match_score(seqA[i-1],'-') \n",
    "            insert = S[i,j-1] + match_score('-',seqB[j-1]) \n",
    "            S[i,j] = max(match,delete,insert)\n",
    "            if match >= max(insert,delete):\n",
    "                trace[i,j,:] = (-1,-1)\n",
    "            elif delete >= insert:\n",
    "                trace[i,j,:] = (-1,0)\n",
    "            else:\n",
    "                trace[i,j,:] = (0,-1)\n",
    "    if print_dynamic_matrix:\n",
    "        print_dynamic(seqA,seqB,S,trace)\n",
    "    return format_alignment(seqA,seqB,S,trace)"
   ]
  },
  {
   "cell_type": "markdown",
   "metadata": {},
   "source": [
    "Now everything is set. We can try the code for any of our favorite sequences. One can toggle the printout of the dynamic programming matrix by a boolean flag as a third argument."
   ]
  },
  {
   "cell_type": "code",
   "execution_count": 5,
   "metadata": {},
   "outputs": [
    {
     "name": "stdout",
     "output_type": "stream",
     "text": [
      "       -    G    C    T    A    C  \n",
      "  -    0.0 -2.0 -4.0 -6.0 -8.0-10.0\n",
      "  G   -2.0  3.0  1.0 -1.0 -3.0 -5.0\n",
      "  A   -4.0  1.0  2.0  0.0  2.0  0.0\n",
      "  T   -6.0 -1.0  0.0  5.0  3.0  1.0\n",
      "  T   -8.0 -3.0 -2.0  3.0  4.0  2.0\n",
      "  A  -10.0 -5.0 -4.0  1.0  6.0  4.0\n",
      "\n",
      "Best score: 4.0\n",
      "GATTA-\n",
      "G-CTAC\n"
     ]
    }
   ],
   "source": [
    "seqA,seqB = global_align(\"GATTA\",\"GCTAC\",True)\n",
    "print_alignment(seqA,seqB)"
   ]
  },
  {
   "cell_type": "markdown",
   "metadata": {},
   "source": [
    "I add a couple of extra alignments, check them manually as an excercise before the exam. Also try to run a couple of them yourself."
   ]
  },
  {
   "cell_type": "code",
   "execution_count": 6,
   "metadata": {},
   "outputs": [
    {
     "name": "stdout",
     "output_type": "stream",
     "text": [
      "       -    G    C    A    T    T    A    C  \n",
      "  -    0.0 -2.0 -4.0 -6.0 -8.0-10.0-12.0-14.0\n",
      "  T   -2.0 -1.0 -3.0 -5.0 -3.0 -5.0 -7.0 -9.0\n",
      "  G   -4.0  1.0 -1.0 -3.0 -5.0 -4.0 -6.0 -8.0\n",
      "  C   -6.0 -1.0  4.0  2.0  0.0 -2.0 -4.0 -3.0\n",
      "  A   -8.0 -3.0  2.0  7.0  5.0  3.0  1.0 -1.0\n",
      "  T  -10.0 -5.0  0.0  5.0 10.0  8.0  6.0  4.0\n",
      "  T  -12.0 -7.0 -2.0  3.0  8.0 13.0 11.0  9.0\n",
      "  A  -14.0 -9.0 -4.0  1.0  6.0 11.0 16.0 14.0\n",
      "\n",
      "Best score: 14.0\n",
      "TGCATTA-\n",
      "-GCATTAC\n"
     ]
    }
   ],
   "source": [
    "seqA,seqB = global_align(\"TGCATTA\",\"GCATTAC\",True)\n",
    "print_alignment(seqA,seqB)"
   ]
  },
  {
   "cell_type": "code",
   "execution_count": 7,
   "metadata": {},
   "outputs": [
    {
     "name": "stdout",
     "output_type": "stream",
     "text": [
      "       -    C    T    A    C    G    C    T    A    T    T    T    C    A  \n",
      "  -    0.0 -2.0 -4.0 -6.0 -8.0-10.0-12.0-14.0-16.0-18.0-20.0-22.0-24.0-26.0\n",
      "  C   -2.0  3.0  1.0 -1.0 -3.0 -5.0 -7.0 -9.0-11.0-13.0-15.0-17.0-19.0-21.0\n",
      "  T   -4.0  1.0  6.0  4.0  2.0  0.0 -2.0 -4.0 -6.0 -8.0-10.0-12.0-14.0-16.0\n",
      "  A   -6.0 -1.0  4.0  9.0  7.0  5.0  3.0  1.0 -1.0 -3.0 -5.0 -7.0 -9.0-11.0\n",
      "  T   -8.0 -3.0  2.0  7.0  8.0  6.0  4.0  6.0  4.0  2.0  0.0 -2.0 -4.0 -6.0\n",
      "  C  -10.0 -5.0  0.0  5.0 10.0  8.0  9.0  7.0  5.0  3.0  1.0 -1.0  1.0 -1.0\n",
      "  T  -12.0 -7.0 -2.0  3.0  8.0  9.0  7.0 12.0 10.0  8.0  6.0  4.0  2.0  0.0\n",
      "  C  -14.0 -9.0 -4.0  1.0  6.0  7.0 12.0 10.0 11.0  9.0  7.0  5.0  7.0  5.0\n",
      "  G  -16.0-11.0 -6.0 -1.0  4.0  9.0 10.0 11.0  9.0 10.0  8.0  6.0  5.0  6.0\n",
      "  C  -18.0-13.0 -8.0 -3.0  2.0  7.0 12.0 10.0 10.0  8.0  9.0  7.0  9.0  7.0\n",
      "  T  -20.0-15.0-10.0 -5.0  0.0  5.0 10.0 15.0 13.0 13.0 11.0 12.0 10.0  8.0\n",
      "  A  -22.0-17.0-12.0 -7.0 -2.0  3.0  8.0 13.0 18.0 16.0 14.0 12.0 11.0 13.0\n",
      "  T  -24.0-19.0-14.0 -9.0 -4.0  1.0  6.0 11.0 16.0 21.0 19.0 17.0 15.0 13.0\n",
      "  C  -26.0-21.0-16.0-11.0 -6.0 -1.0  4.0  9.0 14.0 19.0 20.0 18.0 20.0 18.0\n",
      "  C  -28.0-23.0-18.0-13.0 -8.0 -3.0  2.0  7.0 12.0 17.0 18.0 19.0 21.0 19.0\n",
      "  A  -30.0-25.0-20.0-15.0-10.0 -5.0  0.0  5.0 10.0 15.0 16.0 17.0 19.0 24.0\n",
      "\n",
      "Best score: 24.0\n",
      "CTATCTCGCTA-TCCA\n",
      "CTA---CGCTATTTCA\n"
     ]
    }
   ],
   "source": [
    "seqA,seqB = global_align(\"CTATCTCGCTATCCA\",\"CTACGCTATTTCA\",True)\n",
    "print_alignment(seqA,seqB)"
   ]
  }
 ],
 "metadata": {
  "kernelspec": {
   "display_name": "jb",
   "language": "python",
   "name": "python3"
  },
  "language_info": {
   "codemirror_mode": {
    "name": "ipython",
    "version": 3
   },
   "file_extension": ".py",
   "mimetype": "text/x-python",
   "name": "python",
   "nbconvert_exporter": "python",
   "pygments_lexer": "ipython3",
   "version": "3.11.8"
  }
 },
 "nbformat": 4,
 "nbformat_minor": 2
}
